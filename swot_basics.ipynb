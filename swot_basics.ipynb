{
 "cells": [
  {
   "cell_type": "code",
   "execution_count": 1,
   "id": "38145075-a672-435a-818d-2839a76b1ff8",
   "metadata": {},
   "outputs": [],
   "source": [
    "import earthaccess\n",
    "import time\n",
    "import xarray as xr\n",
    "import s3fs\n",
    "import cartopy.crs as ccrs\n",
    "from matplotlib import pyplot as plt\n",
    "from earthaccess import Auth, DataCollections, DataGranules, Store\n",
    "%matplotlib inline"
   ]
  },
  {
   "cell_type": "markdown",
   "id": "6bcbe1d8-a94b-4761-97e6-8abf8ced4fd1",
   "metadata": {},
   "source": [
    "Only need to run below the first time you run the doc"
   ]
  },
  {
   "cell_type": "code",
   "execution_count": 2,
   "id": "dff01426-fdda-4635-be0e-cd006947e730",
   "metadata": {},
   "outputs": [
    {
     "name": "stdin",
     "output_type": "stream",
     "text": [
      "Enter your Earthdata Login username:  teasus\n",
      "Enter your Earthdata password:  ········\n"
     ]
    },
    {
     "name": "stdout",
     "output_type": "stream",
     "text": [
      "Persisting credentials to .netrc\n"
     ]
    }
   ],
   "source": [
    "auth = earthaccess.login(strategy=\"interactive\", persist=True)"
   ]
  },
  {
   "cell_type": "markdown",
   "id": "c85540a2-3b9b-4f17-83e4-cfdeda62e577",
   "metadata": {},
   "source": [
    "Run below all subsequent times"
   ]
  },
  {
   "cell_type": "code",
   "execution_count": null,
   "id": "fafbe7fd-2df2-4627-84b1-58032c0b6052",
   "metadata": {},
   "outputs": [],
   "source": [
    "auth = earthaccess.login()"
   ]
  },
  {
   "cell_type": "markdown",
   "id": "5ceca9b9-cbd7-4c2d-af97-c3302065f555",
   "metadata": {},
   "source": [
    "Change to desired coordinates"
   ]
  },
  {
   "cell_type": "code",
   "execution_count": 3,
   "id": "b431c37f-9c22-4302-80aa-ed9f62bdde48",
   "metadata": {},
   "outputs": [],
   "source": [
    "# point in Pac Ocean on roughly same line as SF\n",
    "lower_left_lon = -128.5; lower_left_lat = 37.6;\n",
    "# Yreka, CA\n",
    "upper_right_lon = -122.6; upper_right_lat = 41.7;"
   ]
  },
  {
   "cell_type": "code",
   "execution_count": 7,
   "id": "0d415507-0811-4ed3-9b06-9d49ac03f2f1",
   "metadata": {},
   "outputs": [
    {
     "name": "stdout",
     "output_type": "stream",
     "text": [
      "Granules found: 2\n"
     ]
    }
   ],
   "source": [
    "granules = earthaccess.search_data(\n",
    " short_name='SWOT_L2_LR_SSH_2.0',\n",
    " temporal = (\"2024-03-01\", \"2024-03-08\"),\n",
    " bounding_box =(lower_left_lon,lower_left_lat,upper_right_lon,upper_right_lat),\n",
    " cloud_hosted=True,\n",
    " granule_name = '*Basic*'\n",
    ")"
   ]
  },
  {
   "cell_type": "markdown",
   "id": "b4088353-eab1-4069-8459-adf27920aa56",
   "metadata": {},
   "source": [
    "If you import it all at once as one data structure, matplotlib crashes later in this."
   ]
  },
  {
   "cell_type": "code",
   "execution_count": 8,
   "id": "bdbfe9f6-e612-4420-9246-9c19a3af561b",
   "metadata": {},
   "outputs": [],
   "source": [
    "files = []"
   ]
  },
  {
   "cell_type": "code",
   "execution_count": 9,
   "id": "e8dc111a-cb11-4f16-bb7f-6a69bfae0d75",
   "metadata": {},
   "outputs": [
    {
     "name": "stdout",
     "output_type": "stream",
     "text": [
      "Opening 1 granules, approx size: 0.01 GB\n"
     ]
    },
    {
     "data": {
      "application/vnd.jupyter.widget-view+json": {
       "model_id": "de1e21cf04774350bc2c5948e66fdbc5",
       "version_major": 2,
       "version_minor": 0
      },
      "text/plain": [
       "QUEUEING TASKS | :   0%|          | 0/1 [00:00<?, ?it/s]"
      ]
     },
     "metadata": {},
     "output_type": "display_data"
    },
    {
     "data": {
      "application/vnd.jupyter.widget-view+json": {
       "model_id": "989a6b52008c41a7a9ceae0f8e409790",
       "version_major": 2,
       "version_minor": 0
      },
      "text/plain": [
       "PROCESSING TASKS | :   0%|          | 0/1 [00:00<?, ?it/s]"
      ]
     },
     "metadata": {},
     "output_type": "display_data"
    },
    {
     "data": {
      "application/vnd.jupyter.widget-view+json": {
       "model_id": "bcb1d6fc505a42daaf269228c0c9507e",
       "version_major": 2,
       "version_minor": 0
      },
      "text/plain": [
       "COLLECTING RESULTS | :   0%|          | 0/1 [00:00<?, ?it/s]"
      ]
     },
     "metadata": {},
     "output_type": "display_data"
    },
    {
     "name": "stdout",
     "output_type": "stream",
     "text": [
      "Opening 1 granules, approx size: 0.01 GB\n"
     ]
    },
    {
     "data": {
      "application/vnd.jupyter.widget-view+json": {
       "model_id": "4638e406b6194ebb9cf2f4895d2840e5",
       "version_major": 2,
       "version_minor": 0
      },
      "text/plain": [
       "QUEUEING TASKS | :   0%|          | 0/1 [00:00<?, ?it/s]"
      ]
     },
     "metadata": {},
     "output_type": "display_data"
    },
    {
     "data": {
      "application/vnd.jupyter.widget-view+json": {
       "model_id": "e1d7cde209d642de9563fb112d15594b",
       "version_major": 2,
       "version_minor": 0
      },
      "text/plain": [
       "PROCESSING TASKS | :   0%|          | 0/1 [00:00<?, ?it/s]"
      ]
     },
     "metadata": {},
     "output_type": "display_data"
    },
    {
     "data": {
      "application/vnd.jupyter.widget-view+json": {
       "model_id": "730fc559a6b2453d97a186f318bfb764",
       "version_major": 2,
       "version_minor": 0
      },
      "text/plain": [
       "COLLECTING RESULTS | :   0%|          | 0/1 [00:00<?, ?it/s]"
      ]
     },
     "metadata": {},
     "output_type": "display_data"
    },
    {
     "data": {
      "text/plain": [
       "13.538470029830933"
      ]
     },
     "execution_count": 9,
     "metadata": {},
     "output_type": "execute_result"
    }
   ],
   "source": [
    "t = time.time()\n",
    "for file in granules:\n",
    "    ds = xr.open_mfdataset(earthaccess.open([file]), combine='nested', concat_dim=\"num_lines\", decode_times=False, engine='h5netcdf')\n",
    "    files.append(ds)\n",
    "elapsed = time.time() - t\n",
    "elapsed"
   ]
  },
  {
   "cell_type": "code",
   "execution_count": 10,
   "id": "ba1435bd-46ff-4d0e-854d-959bdebd1401",
   "metadata": {},
   "outputs": [],
   "source": [
    "for ds in files:\n",
    "    ds['ssha_karin_corrected'] = ds.ssha_karin + ds.height_cor_xover"
   ]
  },
  {
   "cell_type": "code",
   "execution_count": null,
   "id": "f0ee0911-4800-4816-902a-d0675c3acaca",
   "metadata": {},
   "outputs": [
    {
     "name": "stderr",
     "output_type": "stream",
     "text": [
      "/home/tea-susskind/Documents/NYU_Grad/Research/SWOT/code/venv/lib/python3.11/site-packages/cartopy/io/__init__.py:241: DownloadWarning: Downloading: https://naturalearth.s3.amazonaws.com/110m_physical/ne_110m_coastline.zip\n",
      "  warnings.warn(f'Downloading: {url}', DownloadWarning)\n"
     ]
    }
   ],
   "source": [
    "plt.figure(figsize=(15, 5))\n",
    "ax = plt.axes(projection=ccrs.PlateCarree())\n",
    "ax.set_global()\n",
    "ax.coastlines()\n",
    "for ds in files:\n",
    "    plt.scatter(x=ds.longitude, y=ds.latitude, c=ds.ssha_karin_corrected, marker='.',vmin = -0.5, vmax=0.75,linewidths=0.1)\n",
    "plt.colorbar().set_label('SSH KaRIN Corrected')\n",
    "plt.show()"
   ]
  },
  {
   "cell_type": "code",
   "execution_count": null,
   "id": "d2f593ca-1084-4061-9464-e1db4bf41e84",
   "metadata": {},
   "outputs": [],
   "source": []
  }
 ],
 "metadata": {
  "kernelspec": {
   "display_name": "Python 3 (ipykernel)",
   "language": "python",
   "name": "python3"
  },
  "language_info": {
   "codemirror_mode": {
    "name": "ipython",
    "version": 3
   },
   "file_extension": ".py",
   "mimetype": "text/x-python",
   "name": "python",
   "nbconvert_exporter": "python",
   "pygments_lexer": "ipython3",
   "version": "3.11.6"
  }
 },
 "nbformat": 4,
 "nbformat_minor": 5
}
